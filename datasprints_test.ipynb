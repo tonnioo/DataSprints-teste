{
  "nbformat": 4,
  "nbformat_minor": 0,
  "metadata": {
    "colab": {
      "name": "datasprints_test.ipynb",
      "version": "0.3.2",
      "provenance": [],
      "collapsed_sections": [],
      "toc_visible": true
    },
    "kernelspec": {
      "name": "python3",
      "display_name": "Python 3"
    }
  },
  "cells": [
    {
      "metadata": {
        "id": "yr-usA69OkEg",
        "colab_type": "code",
        "colab": {}
      },
      "cell_type": "code",
      "source": [
        "# Fazer uma visualização em mapa com latitude e longitude de pickups e dropoffs noano de 2010.\n",
        "# QUESITOS MÍNIMOS:\n",
        "# Qual a distância média percorrida por viagens com no máximo 2 passageiros?\n",
        "# Quais os 3 maiores Vendors em quantidade total de dinheiro arrecadado?\n",
        "# Faça um histograma da distribuição mensal, nos 4 anos, de corridas pagas em dinheiro.\n",
        "# Faça um gráfico de série temporal contando a quantidade de gorjetas de cada dia,nos últimos 3 meses de 2012.\n",
        "\n",
        "# QUESITOS BÔNUS:\n",
        "# Qual o tempo médio das corridas nos dias de sábado e domingo?\n",
        "# Fazer uma visualização em mapa com latitude e longitude de pickups e dropoffs noano de 2010.\n",
        "# Conseguir simular um streaming dos dados dos JSONs e fazer uma visualizaçãoacompanhando uma métrica “em tempo-real”.\n",
        "# Conseguir provisionar todo seu ambiente em uma cloud pública, de preferência AWS."
      ],
      "execution_count": 0,
      "outputs": []
    },
    {
      "metadata": {
        "id": "sitVhGt4mRAf",
        "colab_type": "code",
        "outputId": "606be956-0751-4500-bc3d-09f414eae2be",
        "colab": {
          "base_uri": "https://localhost:8080/",
          "height": 118
        }
      },
      "cell_type": "code",
      "source": [
        "# disclaimer: Decidi fazer todas as queries no pandas por facilidade, caso queira usar o bigquery no notebook aqui está um exemplo:\n",
        "# from google.colab import auth\n",
        "# auth.authenticate_user()\n",
        "\n",
        "%%bigquery --project  datasprintsteste  dataframename\n",
        "SELECT *\n",
        "FROM `datasprintsteste.datasets.NYCTaxiTrips2009`\n",
        "LIMIT 1\n",
        "\n",
        "-- (os datasets do bigquery não estão corrigidos, possuem apenas o mês de janeiro)"
      ],
      "execution_count": 0,
      "outputs": [
        {
          "output_type": "execute_result",
          "data": {
            "text/html": [
              "<div>\n",
              "<style scoped>\n",
              "    .dataframe tbody tr th:only-of-type {\n",
              "        vertical-align: middle;\n",
              "    }\n",
              "\n",
              "    .dataframe tbody tr th {\n",
              "        vertical-align: top;\n",
              "    }\n",
              "\n",
              "    .dataframe thead th {\n",
              "        text-align: right;\n",
              "    }\n",
              "</style>\n",
              "<table border=\"1\" class=\"dataframe\">\n",
              "  <thead>\n",
              "    <tr style=\"text-align: right;\">\n",
              "      <th></th>\n",
              "      <th>total_amount</th>\n",
              "      <th>surcharge</th>\n",
              "      <th>fare_amount</th>\n",
              "      <th>dropoff_latitude</th>\n",
              "      <th>pickup_datetime</th>\n",
              "      <th>rate_code</th>\n",
              "      <th>passenger_count</th>\n",
              "      <th>tolls_amount</th>\n",
              "      <th>trip_distance</th>\n",
              "      <th>pickup_longitude</th>\n",
              "      <th>tip_amount</th>\n",
              "      <th>vendor_id</th>\n",
              "      <th>pickup_latitude</th>\n",
              "      <th>store_and_fwd_flag</th>\n",
              "      <th>payment_type</th>\n",
              "      <th>dropoff_datetime</th>\n",
              "      <th>dropoff_longitude</th>\n",
              "    </tr>\n",
              "  </thead>\n",
              "  <tbody>\n",
              "    <tr>\n",
              "      <th>0</th>\n",
              "      <td>9.9</td>\n",
              "      <td>0.0</td>\n",
              "      <td>8.9</td>\n",
              "      <td>40.751203</td>\n",
              "      <td>2009-01-06 07:00:00+00:00</td>\n",
              "      <td></td>\n",
              "      <td>1</td>\n",
              "      <td>0.0</td>\n",
              "      <td>2.79</td>\n",
              "      <td>-73.991155</td>\n",
              "      <td>1.0</td>\n",
              "      <td>VTS</td>\n",
              "      <td>40.71747</td>\n",
              "      <td></td>\n",
              "      <td>Credit</td>\n",
              "      <td>2009-01-06 07:05:00+00:00</td>\n",
              "      <td>-73.975962</td>\n",
              "    </tr>\n",
              "  </tbody>\n",
              "</table>\n",
              "</div>"
            ],
            "text/plain": [
              "   total_amount  surcharge  fare_amount  dropoff_latitude  \\\n",
              "0           9.9        0.0          8.9         40.751203   \n",
              "\n",
              "            pickup_datetime rate_code  passenger_count  tolls_amount  \\\n",
              "0 2009-01-06 07:00:00+00:00                          1           0.0   \n",
              "\n",
              "   trip_distance  pickup_longitude  tip_amount vendor_id  pickup_latitude  \\\n",
              "0           2.79        -73.991155         1.0       VTS         40.71747   \n",
              "\n",
              "  store_and_fwd_flag payment_type          dropoff_datetime  dropoff_longitude  \n",
              "0                          Credit 2009-01-06 07:05:00+00:00         -73.975962  "
            ]
          },
          "metadata": {
            "tags": []
          },
          "execution_count": 4
        }
      ]
    },
    {
      "metadata": {
        "id": "BeJGo7bETD2t",
        "colab_type": "text"
      },
      "cell_type": "markdown",
      "source": [
        "# QUESITOS MÍNIMOS:\n"
      ]
    },
    {
      "metadata": {
        "id": "WZxVKOABqH09",
        "colab_type": "text"
      },
      "cell_type": "markdown",
      "source": [
        "##Preparando os Dados:"
      ]
    },
    {
      "metadata": {
        "id": "ANjXN1F1eaF6",
        "colab_type": "code",
        "outputId": "e76aef79-63a6-4092-d279-c3315752afd5",
        "colab": {
          "base_uri": "https://localhost:8080/",
          "height": 34
        }
      },
      "cell_type": "code",
      "source": [
        "import datetime\n",
        "\n",
        "import numpy as np\n",
        "import pandas as pd\n",
        "\n",
        "import matplotlib.pyplot as plt\n",
        "from matplotlib import style\n",
        "\n",
        "from google.colab import drive\n",
        "drive.mount('/content/gdrive')"
      ],
      "execution_count": 0,
      "outputs": [
        {
          "output_type": "stream",
          "text": [
            "Drive already mounted at /content/gdrive; to attempt to forcibly remount, call drive.mount(\"/content/gdrive\", force_remount=True).\n"
          ],
          "name": "stdout"
        }
      ]
    },
    {
      "metadata": {
        "id": "pbVtO35mlAt1",
        "colab_type": "code",
        "colab": {}
      },
      "cell_type": "code",
      "source": [
        "trips_2009 = pd.read_json('https://s3.amazonaws.com/data-sprints-eng-test/data-sample_data-nyctaxi-trips-2009-json_corrigido.json',lines=True)\n",
        "trips_2010 = pd.read_json('https://s3.amazonaws.com/data-sprints-eng-test/data-sample_data-nyctaxi-trips-2010-json_corrigido.json',lines=True)\n",
        "trips_2011 = pd.read_json('https://s3.amazonaws.com/data-sprints-eng-test/data-sample_data-nyctaxi-trips-2011-json_corrigido.json',lines=True)\n",
        "trips_2012 = pd.read_json('https://s3.amazonaws.com/data-sprints-eng-test/data-sample_data-nyctaxi-trips-2012-json_corrigido.json',lines=True)\n",
        "\n",
        "payment = pd.read_csv('/content/gdrive/My Drive/Colab Notebooks/Teste Técnico Data Sprints/Datasets/data-payment_lookup-csv.csv')\n",
        "vendors = pd.read_csv('/content/gdrive/My Drive/Colab Notebooks/Teste Técnico Data Sprints/Datasets/data-vendor_lookup-csv.csv')\n",
        "\n",
        "frames = [trips_2009,trips_2010,trips_2011,trips_2012]\n",
        "trips = pd.concat(frames,ignore_index=True,sort=True)"
      ],
      "execution_count": 0,
      "outputs": []
    },
    {
      "metadata": {
        "id": "ZZiDPzD7MvWV",
        "colab_type": "code",
        "outputId": "f7e69344-00cf-469e-c7ff-5892414746c3",
        "colab": {
          "base_uri": "https://localhost:8080/",
          "height": 226
        }
      },
      "cell_type": "code",
      "source": [
        "trips.head()"
      ],
      "execution_count": 0,
      "outputs": [
        {
          "output_type": "execute_result",
          "data": {
            "text/html": [
              "<div>\n",
              "<style scoped>\n",
              "    .dataframe tbody tr th:only-of-type {\n",
              "        vertical-align: middle;\n",
              "    }\n",
              "\n",
              "    .dataframe tbody tr th {\n",
              "        vertical-align: top;\n",
              "    }\n",
              "\n",
              "    .dataframe thead th {\n",
              "        text-align: right;\n",
              "    }\n",
              "</style>\n",
              "<table border=\"1\" class=\"dataframe\">\n",
              "  <thead>\n",
              "    <tr style=\"text-align: right;\">\n",
              "      <th></th>\n",
              "      <th>dropoff_datetime</th>\n",
              "      <th>dropoff_latitude</th>\n",
              "      <th>dropoff_longitude</th>\n",
              "      <th>fare_amount</th>\n",
              "      <th>passenger_count</th>\n",
              "      <th>payment_type</th>\n",
              "      <th>pickup_datetime</th>\n",
              "      <th>pickup_latitude</th>\n",
              "      <th>pickup_longitude</th>\n",
              "      <th>rate_code</th>\n",
              "      <th>store_and_fwd_flag</th>\n",
              "      <th>surcharge</th>\n",
              "      <th>tip_amount</th>\n",
              "      <th>tolls_amount</th>\n",
              "      <th>total_amount</th>\n",
              "      <th>trip_distance</th>\n",
              "      <th>vendor_id</th>\n",
              "    </tr>\n",
              "  </thead>\n",
              "  <tbody>\n",
              "    <tr>\n",
              "      <th>0</th>\n",
              "      <td>2009-04-21T18:57:09.433767+00:00</td>\n",
              "      <td>40.747950</td>\n",
              "      <td>-73.994712</td>\n",
              "      <td>5.4</td>\n",
              "      <td>2</td>\n",
              "      <td>Cash</td>\n",
              "      <td>2009-04-21T18:51:11.767205+00:00</td>\n",
              "      <td>40.742950</td>\n",
              "      <td>-74.004114</td>\n",
              "      <td>NaN</td>\n",
              "      <td>NaN</td>\n",
              "      <td>0.0</td>\n",
              "      <td>0.0</td>\n",
              "      <td>0.0</td>\n",
              "      <td>5.4</td>\n",
              "      <td>0.80</td>\n",
              "      <td>CMT</td>\n",
              "    </tr>\n",
              "    <tr>\n",
              "      <th>1</th>\n",
              "      <td>2009-01-13T07:50:36.386011+00:00</td>\n",
              "      <td>40.792385</td>\n",
              "      <td>-73.940449</td>\n",
              "      <td>15.4</td>\n",
              "      <td>1</td>\n",
              "      <td>Cash</td>\n",
              "      <td>2009-01-13T07:40:07.639754+00:00</td>\n",
              "      <td>40.747784</td>\n",
              "      <td>-73.996506</td>\n",
              "      <td>NaN</td>\n",
              "      <td>NaN</td>\n",
              "      <td>0.0</td>\n",
              "      <td>0.0</td>\n",
              "      <td>0.0</td>\n",
              "      <td>15.4</td>\n",
              "      <td>5.40</td>\n",
              "      <td>CMT</td>\n",
              "    </tr>\n",
              "    <tr>\n",
              "      <th>2</th>\n",
              "      <td>2009-01-06T19:43:09.908429+00:00</td>\n",
              "      <td>40.768108</td>\n",
              "      <td>-73.944535</td>\n",
              "      <td>6.1</td>\n",
              "      <td>5</td>\n",
              "      <td>CASH</td>\n",
              "      <td>2009-01-06T19:30:44.142187+00:00</td>\n",
              "      <td>40.752070</td>\n",
              "      <td>-73.951340</td>\n",
              "      <td>NaN</td>\n",
              "      <td>NaN</td>\n",
              "      <td>1.0</td>\n",
              "      <td>0.0</td>\n",
              "      <td>0.0</td>\n",
              "      <td>7.1</td>\n",
              "      <td>1.67</td>\n",
              "      <td>VTS</td>\n",
              "    </tr>\n",
              "    <tr>\n",
              "      <th>3</th>\n",
              "      <td>2009-09-24T08:41:56.739991+00:00</td>\n",
              "      <td>40.721812</td>\n",
              "      <td>-73.958122</td>\n",
              "      <td>12.9</td>\n",
              "      <td>1</td>\n",
              "      <td>CASH</td>\n",
              "      <td>2009-09-24T08:28:09.004451+00:00</td>\n",
              "      <td>40.729128</td>\n",
              "      <td>-74.001117</td>\n",
              "      <td>NaN</td>\n",
              "      <td>NaN</td>\n",
              "      <td>0.5</td>\n",
              "      <td>0.0</td>\n",
              "      <td>0.0</td>\n",
              "      <td>13.4</td>\n",
              "      <td>4.13</td>\n",
              "      <td>VTS</td>\n",
              "    </tr>\n",
              "    <tr>\n",
              "      <th>4</th>\n",
              "      <td>2009-10-29T05:57:22.880174+00:00</td>\n",
              "      <td>40.776075</td>\n",
              "      <td>-73.979757</td>\n",
              "      <td>7.7</td>\n",
              "      <td>1</td>\n",
              "      <td>CASH</td>\n",
              "      <td>2009-10-29T05:50:39.214629+00:00</td>\n",
              "      <td>40.756873</td>\n",
              "      <td>-73.976600</td>\n",
              "      <td>NaN</td>\n",
              "      <td>NaN</td>\n",
              "      <td>0.5</td>\n",
              "      <td>0.0</td>\n",
              "      <td>0.0</td>\n",
              "      <td>8.2</td>\n",
              "      <td>2.03</td>\n",
              "      <td>VTS</td>\n",
              "    </tr>\n",
              "  </tbody>\n",
              "</table>\n",
              "</div>"
            ],
            "text/plain": [
              "                   dropoff_datetime  dropoff_latitude  dropoff_longitude  \\\n",
              "0  2009-04-21T18:57:09.433767+00:00         40.747950         -73.994712   \n",
              "1  2009-01-13T07:50:36.386011+00:00         40.792385         -73.940449   \n",
              "2  2009-01-06T19:43:09.908429+00:00         40.768108         -73.944535   \n",
              "3  2009-09-24T08:41:56.739991+00:00         40.721812         -73.958122   \n",
              "4  2009-10-29T05:57:22.880174+00:00         40.776075         -73.979757   \n",
              "\n",
              "   fare_amount  passenger_count payment_type  \\\n",
              "0          5.4                2         Cash   \n",
              "1         15.4                1         Cash   \n",
              "2          6.1                5         CASH   \n",
              "3         12.9                1         CASH   \n",
              "4          7.7                1         CASH   \n",
              "\n",
              "                    pickup_datetime  pickup_latitude  pickup_longitude  \\\n",
              "0  2009-04-21T18:51:11.767205+00:00        40.742950        -74.004114   \n",
              "1  2009-01-13T07:40:07.639754+00:00        40.747784        -73.996506   \n",
              "2  2009-01-06T19:30:44.142187+00:00        40.752070        -73.951340   \n",
              "3  2009-09-24T08:28:09.004451+00:00        40.729128        -74.001117   \n",
              "4  2009-10-29T05:50:39.214629+00:00        40.756873        -73.976600   \n",
              "\n",
              "   rate_code  store_and_fwd_flag  surcharge  tip_amount  tolls_amount  \\\n",
              "0        NaN                 NaN        0.0         0.0           0.0   \n",
              "1        NaN                 NaN        0.0         0.0           0.0   \n",
              "2        NaN                 NaN        1.0         0.0           0.0   \n",
              "3        NaN                 NaN        0.5         0.0           0.0   \n",
              "4        NaN                 NaN        0.5         0.0           0.0   \n",
              "\n",
              "   total_amount  trip_distance vendor_id  \n",
              "0           5.4           0.80       CMT  \n",
              "1          15.4           5.40       CMT  \n",
              "2           7.1           1.67       VTS  \n",
              "3          13.4           4.13       VTS  \n",
              "4           8.2           2.03       VTS  "
            ]
          },
          "metadata": {
            "tags": []
          },
          "execution_count": 5
        }
      ]
    },
    {
      "metadata": {
        "id": "mhgM-cOFTVW1",
        "colab_type": "code",
        "colab": {}
      },
      "cell_type": "code",
      "source": [
        "# dropando algumas colunas para nos salvar um pouco de RAM\n",
        "trips = trips.drop(['fare_amount','rate_code','store_and_fwd_flag','surcharge','tolls_amount'],axis=1)\n",
        "# trips.head()"
      ],
      "execution_count": 0,
      "outputs": []
    },
    {
      "metadata": {
        "id": "Bter7sgSGmhs",
        "colab_type": "code",
        "colab": {}
      },
      "cell_type": "code",
      "source": [
        "# Convertendo as colunas para datetime\n",
        "def conv_datetime(date_time):\n",
        "  date_time = date_time.split('-')\n",
        "  year = int(date_time[0])\n",
        "  month = int(date_time[1])\n",
        "  day = int(date_time[2][0:2])\n",
        "  \n",
        "  time = date_time[2][4:].split(':')\n",
        "  hour = int(time[0])\n",
        "  minu = int(time[1])\n",
        "  sec = int(time[2][:2])\n",
        "  return datetime.datetime(year,month,day,hour,minu,sec)\n",
        "\n",
        "conv_datetime(trips.pickup_datetime[0])\n",
        "\n",
        "trips.pickup_datetime = trips.pickup_datetime.apply(conv_datetime)\n",
        "trips.dropoff_datetime = trips.dropoff_datetime.apply(conv_datetime)\n",
        "# exemplo:\n",
        "# trips.iloc[1].pickup_datetime.month"
      ],
      "execution_count": 0,
      "outputs": []
    },
    {
      "metadata": {
        "id": "Sz0xYC-Dr0zD",
        "colab_type": "code",
        "colab": {}
      },
      "cell_type": "code",
      "source": [
        "# criando colunas de data para facilitar os groupby\n",
        "trips['day'] = pd.Series(np.array([i.day for i in trips.pickup_datetime]))\n",
        "trips['month'] = pd.Series(np.array([i.month for i in trips.pickup_datetime]))\n",
        "trips['year'] = pd.Series(np.array([i.year for i in trips.pickup_datetime]))"
      ],
      "execution_count": 0,
      "outputs": []
    },
    {
      "metadata": {
        "id": "jwkXG-IFM0Np",
        "colab_type": "code",
        "outputId": "1a999242-d5a1-487a-857f-3bf0c2fa9d5a",
        "colab": {
          "base_uri": "https://localhost:8080/",
          "height": 206
        }
      },
      "cell_type": "code",
      "source": [
        "payment.head()"
      ],
      "execution_count": 0,
      "outputs": [
        {
          "output_type": "execute_result",
          "data": {
            "text/html": [
              "<div>\n",
              "<style scoped>\n",
              "    .dataframe tbody tr th:only-of-type {\n",
              "        vertical-align: middle;\n",
              "    }\n",
              "\n",
              "    .dataframe tbody tr th {\n",
              "        vertical-align: top;\n",
              "    }\n",
              "\n",
              "    .dataframe thead th {\n",
              "        text-align: right;\n",
              "    }\n",
              "</style>\n",
              "<table border=\"1\" class=\"dataframe\">\n",
              "  <thead>\n",
              "    <tr style=\"text-align: right;\">\n",
              "      <th></th>\n",
              "      <th>A</th>\n",
              "      <th>B</th>\n",
              "    </tr>\n",
              "  </thead>\n",
              "  <tbody>\n",
              "    <tr>\n",
              "      <th>0</th>\n",
              "      <td>payment_type</td>\n",
              "      <td>payment_lookup</td>\n",
              "    </tr>\n",
              "    <tr>\n",
              "      <th>1</th>\n",
              "      <td>Cas</td>\n",
              "      <td>Cash</td>\n",
              "    </tr>\n",
              "    <tr>\n",
              "      <th>2</th>\n",
              "      <td>CAS</td>\n",
              "      <td>Cash</td>\n",
              "    </tr>\n",
              "    <tr>\n",
              "      <th>3</th>\n",
              "      <td>Cre</td>\n",
              "      <td>Credit</td>\n",
              "    </tr>\n",
              "    <tr>\n",
              "      <th>4</th>\n",
              "      <td>CRE</td>\n",
              "      <td>Credit</td>\n",
              "    </tr>\n",
              "  </tbody>\n",
              "</table>\n",
              "</div>"
            ],
            "text/plain": [
              "              A               B\n",
              "0  payment_type  payment_lookup\n",
              "1           Cas            Cash\n",
              "2           CAS            Cash\n",
              "3           Cre          Credit\n",
              "4           CRE          Credit"
            ]
          },
          "metadata": {
            "tags": []
          },
          "execution_count": 12
        }
      ]
    },
    {
      "metadata": {
        "id": "rDOI2Mm2G7D0",
        "colab_type": "code",
        "colab": {}
      },
      "cell_type": "code",
      "source": [
        "# merge de payment com trips\n",
        "payment = payment.rename(columns={'A': 'payment_type', 'B': 'payment_lookup'})\n",
        "trips = pd.merge(trips,payment, on='payment_type')\n",
        "# trips.payment_lookup.head()"
      ],
      "execution_count": 0,
      "outputs": []
    },
    {
      "metadata": {
        "id": "Z8dQfvw7TKac",
        "colab_type": "text"
      },
      "cell_type": "markdown",
      "source": [
        "## Qual a distância média percorrida por viagens com no máximo 2 passageiros?\n"
      ]
    },
    {
      "metadata": {
        "id": "yeg9w60ZCfcA",
        "colab_type": "code",
        "outputId": "5cf70e0f-9c74-494b-f6f8-610b1001b56e",
        "colab": {
          "base_uri": "https://localhost:8080/",
          "height": 34
        }
      },
      "cell_type": "code",
      "source": [
        "td_mean = np.mean(trips.loc[trips.passenger_count <= 2,'trip_distance'])\n",
        "td_mean"
      ],
      "execution_count": 0,
      "outputs": [
        {
          "output_type": "execute_result",
          "data": {
            "text/plain": [
              "2.662526996203199"
            ]
          },
          "metadata": {
            "tags": []
          },
          "execution_count": 14
        }
      ]
    },
    {
      "metadata": {
        "id": "pSbWAGWmQhQL",
        "colab_type": "code",
        "outputId": "0d2be512-139f-45cd-a953-8aa437579165",
        "colab": {
          "base_uri": "https://localhost:8080/",
          "height": 34
        }
      },
      "cell_type": "code",
      "source": [
        "td_median = np.median(trips.loc[trips.passenger_count <= 2,'trip_distance'])\n",
        "td_median "
      ],
      "execution_count": 0,
      "outputs": [
        {
          "output_type": "execute_result",
          "data": {
            "text/plain": [
              "1.6800000000000002"
            ]
          },
          "metadata": {
            "tags": []
          },
          "execution_count": 15
        }
      ]
    },
    {
      "metadata": {
        "id": "RfEmCiorOXrz",
        "colab_type": "code",
        "outputId": "fa3a4baa-7832-4f63-bfea-72fc1285d6a4",
        "colab": {
          "base_uri": "https://localhost:8080/",
          "height": 404
        }
      },
      "cell_type": "code",
      "source": [
        "plt.subplots(figsize = (8,6))\n",
        "plt.hist(trips.loc[trips.passenger_count <= 2,'trip_distance'])\n",
        "plt.xlim((0,25))\n",
        "plt.yticks(list(range(0,3500001,500000)),['0','500K','1M','1.5M','2M','2.5M','3M','3.5M'])\n",
        "plt.xlabel('distância(Km)')\n",
        "plt.ylabel('número de viagens')\n",
        "\n",
        "plt.text(2.8, 3400000, '2.662',color=(0.9,0.2,0.2))\n",
        "plt.text(0.4, 3400000, '1.68',color=(0.5,0.0,0.5))\n",
        "\n",
        "\n",
        "plt.plot([td_mean,td_mean],[0,3500000],c=(0.9,0.2,0.2),label='média')\n",
        "plt.plot([td_median,td_median],[0,3500000],c=(0.5,0.0,0.5),label='mediana')\n",
        "plt.title('Distância Percorrida Por Viagens')\n",
        "plt.legend()\n",
        "plt.show()"
      ],
      "execution_count": 0,
      "outputs": [
        {
          "output_type": "display_data",
          "data": {
            "image/png": "[encoded data removed]",
            "text/plain": [
              "<Figure size 576x432 with 1 Axes>"
            ]
          },
          "metadata": {
            "tags": []
          }
        }
      ]
    },
    {
      "metadata": {
        "id": "Qnz3B8tSSJ56",
        "colab_type": "code",
        "outputId": "835cf883-7435-4e07-bb4d-ca021cae9a8f",
        "colab": {
          "base_uri": "https://localhost:8080/",
          "height": 404
        }
      },
      "cell_type": "code",
      "source": [
        "trips_passenger = trips.loc[trips.passenger_count <= 2]\n",
        "\n",
        "plt.subplots(figsize = (8,6))\n",
        "plt.hist(trips_passenger.loc[trips_passenger.trip_distance < 10, 'trip_distance'])\n",
        "plt.xlim((0,10))\n",
        "plt.yticks(list(range(0,1200001,200000)),['0','200K','400K','600K','800K','1M','1.2M'])\n",
        "plt.xlabel('distância(Km)')\n",
        "plt.ylabel('número de viagens')\n",
        "\n",
        "plt.text(2.8, 1200000, '2.662',color=(0.9,0.2,0.2))\n",
        "plt.text(1.8, 1200000, '1.68',color=(0.5,0.0,0.5))\n",
        "\n",
        "\n",
        "plt.plot([td_mean,td_mean],[0,1250000],c=(0.9,0.2,0.2),label='média')\n",
        "plt.plot([td_median,td_median],[0,1250000],c=(0.5,0.0,0.5),label='mediana')\n",
        "\n",
        "plt.title('Distância Percorrida Por Viagens')\n",
        "plt.legend()\n",
        "plt.show()"
      ],
      "execution_count": 0,
      "outputs": [
        {
          "output_type": "display_data",
          "data": {
            "image/png": "[encoded data removed]",
            "text/plain": [
              "<Figure size 576x432 with 1 Axes>"
            ]
          },
          "metadata": {
            "tags": []
          }
        }
      ]
    },
    {
      "metadata": {
        "id": "GU2lf1UlTTBp",
        "colab_type": "text"
      },
      "cell_type": "markdown",
      "source": [
        "## Quais os 3 maiores Vendors em quantidade total de dinheiro arrecadado?\n"
      ]
    },
    {
      "metadata": {
        "id": "R9GwW1jM29_d",
        "colab_type": "code",
        "outputId": "6a7a17ac-654e-4cf1-dc52-3adcdae9cd41",
        "colab": {
          "base_uri": "https://localhost:8080/",
          "height": 121
        }
      },
      "cell_type": "code",
      "source": [
        "trips.groupby(trips.vendor_id).total_amount.sum().sort_values(ascending=False)"
      ],
      "execution_count": 0,
      "outputs": [
        {
          "output_type": "execute_result",
          "data": {
            "text/plain": [
              "vendor_id\n",
              "CMT    1.954908e+07\n",
              "VTS    1.904343e+07\n",
              "DDS    2.714902e+06\n",
              "TS     4.560000e+01\n",
              "Name: total_amount, dtype: float64"
            ]
          },
          "metadata": {
            "tags": []
          },
          "execution_count": 23
        }
      ]
    },
    {
      "metadata": {
        "id": "oVpl14dXbpie",
        "colab_type": "code",
        "outputId": "1a2d6070-a22e-4812-b973-2cdf96da3ca8",
        "colab": {
          "base_uri": "https://localhost:8080/",
          "height": 121
        }
      },
      "cell_type": "code",
      "source": [
        "trips.groupby(trips.vendor_id).total_amount.count().sort_values(ascending=False)"
      ],
      "execution_count": 0,
      "outputs": [
        {
          "output_type": "execute_result",
          "data": {
            "text/plain": [
              "vendor_id\n",
              "CMT    1916128\n",
              "VTS    1833052\n",
              "DDS     250816\n",
              "TS           4\n",
              "Name: total_amount, dtype: int64"
            ]
          },
          "metadata": {
            "tags": []
          },
          "execution_count": 38
        }
      ]
    },
    {
      "metadata": {
        "id": "nxBNm6XgTaKn",
        "colab_type": "text"
      },
      "cell_type": "markdown",
      "source": [
        "## Faça um histograma da distribuição mensal, nos 4 anos, de corridas pagas em dinheiro."
      ]
    },
    {
      "metadata": {
        "id": "ZcmOs45wEThX",
        "colab_type": "code",
        "outputId": "dd9c1f73-8772-4c48-b472-9825e36601c8",
        "colab": {
          "base_uri": "https://localhost:8080/",
          "height": 399
        }
      },
      "cell_type": "code",
      "source": [
        "#fazendo a tabela por ano\n",
        "#tabela com todos os anos: frequency = trips[trips.payment_lookup=='Cash'].groupby(['year','month']).size()\n",
        "\n",
        "frequency_2009 = trips[trips.payment_lookup=='Cash'][trips.year==2009].groupby(['month']).size()\n",
        "frequency_2010 = trips[trips.payment_lookup=='Cash'][trips.year==2010].groupby(['month']).size()\n",
        "frequency_2011 = trips[trips.payment_lookup=='Cash'][trips.year==2011].groupby(['month']).size()\n",
        "frequency_2012 = trips[trips.payment_lookup=='Cash'][trips.year==2012].groupby(['month']).size()\n",
        "\n",
        "frequency_2009"
      ],
      "execution_count": 0,
      "outputs": [
        {
          "output_type": "stream",
          "text": [
            "/usr/local/lib/python3.6/dist-packages/ipykernel_launcher.py:2: UserWarning: Boolean Series key will be reindexed to match DataFrame index.\n",
            "  \n",
            "/usr/local/lib/python3.6/dist-packages/ipykernel_launcher.py:3: UserWarning: Boolean Series key will be reindexed to match DataFrame index.\n",
            "  This is separate from the ipykernel package so we can avoid doing imports until\n",
            "/usr/local/lib/python3.6/dist-packages/ipykernel_launcher.py:4: UserWarning: Boolean Series key will be reindexed to match DataFrame index.\n",
            "  after removing the cwd from sys.path.\n",
            "/usr/local/lib/python3.6/dist-packages/ipykernel_launcher.py:5: UserWarning: Boolean Series key will be reindexed to match DataFrame index.\n",
            "  \"\"\"\n"
          ],
          "name": "stderr"
        },
        {
          "output_type": "execute_result",
          "data": {
            "text/plain": [
              "month\n",
              "1     66824\n",
              "2     66680\n",
              "3     73948\n",
              "4     71142\n",
              "5     74151\n",
              "6     71342\n",
              "7     74076\n",
              "8     74021\n",
              "9     71511\n",
              "10    74011\n",
              "11    71424\n",
              "12    21583\n",
              "dtype: int64"
            ]
          },
          "metadata": {
            "tags": []
          },
          "execution_count": 65
        }
      ]
    },
    {
      "metadata": {
        "id": "wVAoBl3SUBqS",
        "colab_type": "code",
        "outputId": "a33dc7c5-62c0-42fc-9666-4e83e648d2df",
        "colab": {
          "base_uri": "https://localhost:8080/",
          "height": 86
        }
      },
      "cell_type": "code",
      "source": [
        "# verificando a disponibilidade de meses de cada ano\n",
        "print('2009:',list(frequency_2009.index.get_level_values(0)))\n",
        "print('2010:',list(frequency_2010.index.get_level_values(0)))\n",
        "print('2011:',list(frequency_2011.index.get_level_values(0)))\n",
        "print('2012:',list(frequency_2012.index.get_level_values(0)))"
      ],
      "execution_count": 0,
      "outputs": [
        {
          "output_type": "stream",
          "text": [
            "2009: [1, 2, 3, 4, 5, 6, 7, 8, 9, 10, 11, 12]\n",
            "2010: [1, 2, 3, 4, 5, 6, 7, 8, 9, 10, 11, 12]\n",
            "2011: [1, 2, 3, 4, 5, 6, 7, 8, 9, 10, 11]\n",
            "2012: [1, 2, 3, 4, 5, 6, 7, 8, 9, 10]\n"
          ],
          "name": "stdout"
        }
      ]
    },
    {
      "metadata": {
        "id": "AvFc7e2NjCS6",
        "colab_type": "code",
        "colab": {}
      },
      "cell_type": "code",
      "source": [
        "# alguns datasets não possuem certos meses. Para nossos plots não ficarem desbalanceados, vamos colocá-los manualmente\n",
        "missing_month_2011 = pd.Series(np.array([0]),index= pd.Int64Index([12], dtype='int64', name='month'))\n",
        "frequency_2011 = frequency_2011.append(missing_month_2011)\n",
        "\n",
        "missing_month_2012 = pd.Series(np.array([0,0]),index= pd.Int64Index([11,12], dtype='int64', name='month'))\n",
        "frequency_2012 = frequency_2012.append(missing_month_2012)\n",
        "\n",
        "# print('2009:',list(frequency_2009.index.get_level_values(0)))\n",
        "# print('2010:',list(frequency_2010.index.get_level_values(0)))\n",
        "# print('2011:',list(frequency_2011.index.get_level_values(0)))\n",
        "# print('2012:',list(frequency_2012.index.get_level_values(0)))"
      ],
      "execution_count": 0,
      "outputs": []
    },
    {
      "metadata": {
        "id": "0-wyRpI5qcEn",
        "colab_type": "code",
        "outputId": "07e21bed-bb64-4e2d-dfbd-5a0dbde79913",
        "colab": {
          "base_uri": "https://localhost:8080/",
          "height": 34
        }
      },
      "cell_type": "code",
      "source": [
        "[0,1,7,3].index(7)"
      ],
      "execution_count": 0,
      "outputs": [
        {
          "output_type": "execute_result",
          "data": {
            "text/plain": [
              "2"
            ]
          },
          "metadata": {
            "tags": []
          },
          "execution_count": 108
        }
      ]
    },
    {
      "metadata": {
        "colab_type": "code",
        "outputId": "000e47b1-3b83-45b8-e855-a8745d76b963",
        "id": "I4IfiHEmfZ4x",
        "colab": {
          "base_uri": "https://localhost:8080/",
          "height": 540
        }
      },
      "cell_type": "code",
      "source": [
        "# fazendo os subplots:\n",
        "fig, ax = plt.subplots(nrows=2, ncols=2,figsize = (12,8))\n",
        "\n",
        "ax = ax.reshape(1,-1)[0] #transformando a matriz de linhas/colunas em uma lista 1-D\n",
        "\n",
        "x_list = [frequency_2009,frequency_2010,frequency_2011,frequency_2012]\n",
        "color_list = [(0.8,0.3,0.3),(0.3,0.8,0.3),(0.3,0.3,0.8),(0.8,0.8,0.3)]\n",
        "label_list = ['2009','2010','2011','2012']\n",
        "\n",
        "for plot in ax:\n",
        "  i = ax.tolist().index(plot)\n",
        "  plot.bar(list(range(1,13)),x_list[i],align='center',width=0.5,color=color_list[i],label= label_list[i])\n",
        "  plot.set_xticks(list(range(1,13)))\n",
        "  plot.set_title(label_list[i])\n",
        "\n",
        "fig.suptitle('Viagens Realizadas com Dinheiro',size = 15)  \n",
        "plt.show()"
      ],
      "execution_count": 0,
      "outputs": [
        {
          "output_type": "display_data",
          "data": {
            "image/png": "[encoded data removed]",
            "text/plain": [
              "<Figure size 864x576 with 4 Axes>"
            ]
          },
          "metadata": {
            "tags": []
          }
        }
      ]
    },
    {
      "metadata": {
        "id": "H4wGH2VBSibE",
        "colab_type": "text"
      },
      "cell_type": "markdown",
      "source": [
        "##Faça um gráfico de série temporal contando a quantidade de gorjetas de cada dia,nos últimos 3 meses de 2012.\n"
      ]
    },
    {
      "metadata": {
        "id": "1V-kU_cToKOB",
        "colab_type": "code",
        "outputId": "20997d51-50b7-4a50-f402-1b1f9a83d00f",
        "colab": {
          "base_uri": "https://localhost:8080/",
          "height": 193
        }
      },
      "cell_type": "code",
      "source": [
        "tips = trips[trips.year == 2009][trips.month >= 10].groupby(['month','day']).tip_amount.count()\n",
        "tips.head()"
      ],
      "execution_count": 0,
      "outputs": [
        {
          "output_type": "stream",
          "text": [
            "/usr/local/lib/python3.6/dist-packages/ipykernel_launcher.py:1: UserWarning: Boolean Series key will be reindexed to match DataFrame index.\n",
            "  \"\"\"Entry point for launching an IPython kernel.\n"
          ],
          "name": "stderr"
        },
        {
          "output_type": "execute_result",
          "data": {
            "text/plain": [
              "month  day\n",
              "10     1      2882\n",
              "       2      2981\n",
              "       3      2915\n",
              "       4      2864\n",
              "       5      2870\n",
              "Name: tip_amount, dtype: int64"
            ]
          },
          "metadata": {
            "tags": []
          },
          "execution_count": 197
        }
      ]
    },
    {
      "metadata": {
        "id": "ryiFX46SRCv2",
        "colab_type": "code",
        "outputId": "9f38168c-2799-486d-d973-b5f3f220b829",
        "colab": {
          "base_uri": "https://localhost:8080/",
          "height": 421
        }
      },
      "cell_type": "code",
      "source": [
        "# podemos ver que nossos dados não tem o mês de dezembro completo\n",
        "plt.subplots(figsize = (8,6))\n",
        "plt.plot(list(tips))\n",
        "plt.xlim(0,len(list(tips))-1)\n",
        "plt.xticks(range(0,len(list(tips)),5),tips.index.get_level_values(1)[::5])\n",
        "plt.xlabel('dias (out-dez 2009)')\n",
        "plt.ylabel('gorjetas')\n",
        "plt.title('Número Total de Gorjetas')\n",
        "plt.legend()\n",
        "plt.show()"
      ],
      "execution_count": 0,
      "outputs": [
        {
          "output_type": "stream",
          "text": [
            "No handles with labels found to put in legend.\n"
          ],
          "name": "stderr"
        },
        {
          "output_type": "display_data",
          "data": {
            "image/png": "[encoded data removed]",
            "text/plain": [
              "<Figure size 576x432 with 1 Axes>"
            ]
          },
          "metadata": {
            "tags": []
          }
        }
      ]
    },
    {
      "metadata": {
        "id": "Z3txS9Tl_IJ9",
        "colab_type": "text"
      },
      "cell_type": "markdown",
      "source": [
        "#QUESITOS BÔNUS:"
      ]
    },
    {
      "metadata": {
        "id": "8F4PXxzsVyI1",
        "colab_type": "text"
      },
      "cell_type": "markdown",
      "source": [
        "## Qual o tempo médio das corridas nos dias de sábado e domingo?"
      ]
    },
    {
      "metadata": {
        "id": "NOS9pxH3-0Dq",
        "colab_type": "code",
        "outputId": "241ffe35-f468-4374-9697-fb6a6dd1bef8",
        "colab": {
          "base_uri": "https://localhost:8080/",
          "height": 34
        }
      },
      "cell_type": "code",
      "source": [
        "#como convertemos os valores pra datetime, eles agora podem ser subtraídos um do outro e gerar um datetime delta\n",
        "trips.pickup_datetime[0].weekday()"
      ],
      "execution_count": 0,
      "outputs": [
        {
          "output_type": "execute_result",
          "data": {
            "text/plain": [
              "1"
            ]
          },
          "metadata": {
            "tags": []
          },
          "execution_count": 200
        }
      ]
    },
    {
      "metadata": {
        "id": "vWndpFUY-KIP",
        "colab_type": "code",
        "outputId": "3d1f7549-9616-464b-f11a-b7f11a170f57",
        "colab": {
          "base_uri": "https://localhost:8080/",
          "height": 342
        }
      },
      "cell_type": "code",
      "source": [
        "# vamos fazer uma lista com cada uma das informações para facilitar nosso trabalho\n",
        "\n",
        "#usamos uma list comprehension junto com o nosso delta (dividido por 60 para o resultado em minutos)\n",
        "#(aviso: é bem pesado de rodar)\n",
        "trips['travel_time'] = pd.Series(np.array(\n",
        "                       [\n",
        "                       (trips.dropoff_datetime[i] - trips.pickup_datetime[i]).seconds/60\n",
        "                       for i in trips.index\n",
        "                       ]))\n",
        "trips['day_of_the_week'] = pd.Series(np.array([i.weekday() for i in trips.pickup_datetime]))\n",
        "\n",
        "trips.head()"
      ],
      "execution_count": 0,
      "outputs": [
        {
          "output_type": "execute_result",
          "data": {
            "text/html": [
              "<div>\n",
              "<style scoped>\n",
              "    .dataframe tbody tr th:only-of-type {\n",
              "        vertical-align: middle;\n",
              "    }\n",
              "\n",
              "    .dataframe tbody tr th {\n",
              "        vertical-align: top;\n",
              "    }\n",
              "\n",
              "    .dataframe thead th {\n",
              "        text-align: right;\n",
              "    }\n",
              "</style>\n",
              "<table border=\"1\" class=\"dataframe\">\n",
              "  <thead>\n",
              "    <tr style=\"text-align: right;\">\n",
              "      <th></th>\n",
              "      <th>dropoff_datetime</th>\n",
              "      <th>dropoff_latitude</th>\n",
              "      <th>dropoff_longitude</th>\n",
              "      <th>fare_amount</th>\n",
              "      <th>passenger_count</th>\n",
              "      <th>payment_type</th>\n",
              "      <th>pickup_datetime</th>\n",
              "      <th>pickup_latitude</th>\n",
              "      <th>pickup_longitude</th>\n",
              "      <th>rate_code</th>\n",
              "      <th>...</th>\n",
              "      <th>tolls_amount</th>\n",
              "      <th>total_amount</th>\n",
              "      <th>trip_distance</th>\n",
              "      <th>vendor_id</th>\n",
              "      <th>day</th>\n",
              "      <th>month</th>\n",
              "      <th>year</th>\n",
              "      <th>payment_lookup</th>\n",
              "      <th>travel_time</th>\n",
              "      <th>day_of_the_week</th>\n",
              "    </tr>\n",
              "  </thead>\n",
              "  <tbody>\n",
              "    <tr>\n",
              "      <th>0</th>\n",
              "      <td>2009-04-21 08:57:09</td>\n",
              "      <td>40.747950</td>\n",
              "      <td>-73.994712</td>\n",
              "      <td>5.4</td>\n",
              "      <td>2</td>\n",
              "      <td>Cash</td>\n",
              "      <td>2009-04-21 08:51:11</td>\n",
              "      <td>40.742950</td>\n",
              "      <td>-74.004114</td>\n",
              "      <td>NaN</td>\n",
              "      <td>...</td>\n",
              "      <td>0.0</td>\n",
              "      <td>5.4</td>\n",
              "      <td>0.8</td>\n",
              "      <td>CMT</td>\n",
              "      <td>21</td>\n",
              "      <td>4</td>\n",
              "      <td>2009</td>\n",
              "      <td>Cash</td>\n",
              "      <td>5.966667</td>\n",
              "      <td>1</td>\n",
              "    </tr>\n",
              "    <tr>\n",
              "      <th>1</th>\n",
              "      <td>2009-01-13 07:50:36</td>\n",
              "      <td>40.792385</td>\n",
              "      <td>-73.940449</td>\n",
              "      <td>15.4</td>\n",
              "      <td>1</td>\n",
              "      <td>Cash</td>\n",
              "      <td>2009-01-13 07:40:07</td>\n",
              "      <td>40.747784</td>\n",
              "      <td>-73.996506</td>\n",
              "      <td>NaN</td>\n",
              "      <td>...</td>\n",
              "      <td>0.0</td>\n",
              "      <td>15.4</td>\n",
              "      <td>5.4</td>\n",
              "      <td>CMT</td>\n",
              "      <td>13</td>\n",
              "      <td>1</td>\n",
              "      <td>2009</td>\n",
              "      <td>Cash</td>\n",
              "      <td>10.483333</td>\n",
              "      <td>1</td>\n",
              "    </tr>\n",
              "    <tr>\n",
              "      <th>2</th>\n",
              "      <td>2009-04-22 04:55:09</td>\n",
              "      <td>40.718039</td>\n",
              "      <td>-73.997466</td>\n",
              "      <td>18.7</td>\n",
              "      <td>1</td>\n",
              "      <td>Cash</td>\n",
              "      <td>2009-04-22 04:47:09</td>\n",
              "      <td>40.774511</td>\n",
              "      <td>-73.948288</td>\n",
              "      <td>NaN</td>\n",
              "      <td>...</td>\n",
              "      <td>0.0</td>\n",
              "      <td>18.7</td>\n",
              "      <td>6.0</td>\n",
              "      <td>CMT</td>\n",
              "      <td>22</td>\n",
              "      <td>4</td>\n",
              "      <td>2009</td>\n",
              "      <td>Cash</td>\n",
              "      <td>8.000000</td>\n",
              "      <td>2</td>\n",
              "    </tr>\n",
              "    <tr>\n",
              "      <th>3</th>\n",
              "      <td>2009-09-22 07:55:12</td>\n",
              "      <td>40.747020</td>\n",
              "      <td>-74.002378</td>\n",
              "      <td>4.9</td>\n",
              "      <td>2</td>\n",
              "      <td>Cash</td>\n",
              "      <td>2009-09-22 07:43:48</td>\n",
              "      <td>40.743155</td>\n",
              "      <td>-73.992710</td>\n",
              "      <td>NaN</td>\n",
              "      <td>...</td>\n",
              "      <td>0.0</td>\n",
              "      <td>4.9</td>\n",
              "      <td>0.5</td>\n",
              "      <td>CMT</td>\n",
              "      <td>22</td>\n",
              "      <td>9</td>\n",
              "      <td>2009</td>\n",
              "      <td>Cash</td>\n",
              "      <td>11.400000</td>\n",
              "      <td>1</td>\n",
              "    </tr>\n",
              "    <tr>\n",
              "      <th>4</th>\n",
              "      <td>2009-12-03 09:26:59</td>\n",
              "      <td>40.738818</td>\n",
              "      <td>-73.992199</td>\n",
              "      <td>5.3</td>\n",
              "      <td>1</td>\n",
              "      <td>Cash</td>\n",
              "      <td>2009-12-03 09:17:56</td>\n",
              "      <td>40.751590</td>\n",
              "      <td>-73.990926</td>\n",
              "      <td>NaN</td>\n",
              "      <td>...</td>\n",
              "      <td>0.0</td>\n",
              "      <td>5.3</td>\n",
              "      <td>1.1</td>\n",
              "      <td>CMT</td>\n",
              "      <td>3</td>\n",
              "      <td>12</td>\n",
              "      <td>2009</td>\n",
              "      <td>Cash</td>\n",
              "      <td>9.050000</td>\n",
              "      <td>3</td>\n",
              "    </tr>\n",
              "  </tbody>\n",
              "</table>\n",
              "<p>5 rows × 23 columns</p>\n",
              "</div>"
            ],
            "text/plain": [
              "     dropoff_datetime  dropoff_latitude  dropoff_longitude  fare_amount  \\\n",
              "0 2009-04-21 08:57:09         40.747950         -73.994712          5.4   \n",
              "1 2009-01-13 07:50:36         40.792385         -73.940449         15.4   \n",
              "2 2009-04-22 04:55:09         40.718039         -73.997466         18.7   \n",
              "3 2009-09-22 07:55:12         40.747020         -74.002378          4.9   \n",
              "4 2009-12-03 09:26:59         40.738818         -73.992199          5.3   \n",
              "\n",
              "   passenger_count payment_type     pickup_datetime  pickup_latitude  \\\n",
              "0                2         Cash 2009-04-21 08:51:11        40.742950   \n",
              "1                1         Cash 2009-01-13 07:40:07        40.747784   \n",
              "2                1         Cash 2009-04-22 04:47:09        40.774511   \n",
              "3                2         Cash 2009-09-22 07:43:48        40.743155   \n",
              "4                1         Cash 2009-12-03 09:17:56        40.751590   \n",
              "\n",
              "   pickup_longitude  rate_code  ...  tolls_amount  total_amount  \\\n",
              "0        -74.004114        NaN  ...           0.0           5.4   \n",
              "1        -73.996506        NaN  ...           0.0          15.4   \n",
              "2        -73.948288        NaN  ...           0.0          18.7   \n",
              "3        -73.992710        NaN  ...           0.0           4.9   \n",
              "4        -73.990926        NaN  ...           0.0           5.3   \n",
              "\n",
              "   trip_distance  vendor_id  day  month  year  payment_lookup  travel_time  \\\n",
              "0            0.8        CMT   21      4  2009            Cash     5.966667   \n",
              "1            5.4        CMT   13      1  2009            Cash    10.483333   \n",
              "2            6.0        CMT   22      4  2009            Cash     8.000000   \n",
              "3            0.5        CMT   22      9  2009            Cash    11.400000   \n",
              "4            1.1        CMT    3     12  2009            Cash     9.050000   \n",
              "\n",
              "   day_of_the_week  \n",
              "0                1  \n",
              "1                1  \n",
              "2                2  \n",
              "3                1  \n",
              "4                3  \n",
              "\n",
              "[5 rows x 23 columns]"
            ]
          },
          "metadata": {
            "tags": []
          },
          "execution_count": 201
        }
      ]
    },
    {
      "metadata": {
        "id": "gWd3BYj2sTkE",
        "colab_type": "code",
        "outputId": "c5abed84-553d-42ce-e60b-07ba2350b7a2",
        "colab": {
          "base_uri": "https://localhost:8080/",
          "height": 52
        }
      },
      "cell_type": "code",
      "source": [
        "#0 = segunda, 6 = domingo\n",
        "weekends = trips[trips.day_of_the_week >= 5].travel_time\n",
        "print('mean:',np.mean(weekends))\n",
        "print('median:',np.median(weekends))"
      ],
      "execution_count": 0,
      "outputs": [
        {
          "output_type": "stream",
          "text": [
            "mean: 26.25524643454365\n",
            "median: 8.783333333333333\n"
          ],
          "name": "stdout"
        }
      ]
    },
    {
      "metadata": {
        "id": "bJreYUJejgLY",
        "colab_type": "code",
        "outputId": "66541c15-d531-474f-ec6d-8fc7777bd018",
        "colab": {
          "base_uri": "https://localhost:8080/",
          "height": 404
        }
      },
      "cell_type": "code",
      "source": [
        "plt.subplots(figsize = (8,6))\n",
        "plt.hist(weekends)\n",
        "plt.xlim(0,1400)\n",
        "\n",
        "plt.yticks(list(range(0,1200001,200000)),['0', '200K', '400K', '600K', '800K', '1M', '1.2M'])\n",
        "\n",
        "plt.plot([np.mean(weekends),np.mean(weekends)],[0,1200000],c=(0.9,0.2,0.2),label='média')\n",
        "plt.plot([np.median(weekends),np.median(weekends)],[0,1300000],c=(0.5,0.0,0.5),label='mediana')\n",
        "\n",
        "plt.text(35.4, 1170000, '26.255',color=(0.9,0.2,0.2))\n",
        "plt.text(15, 1250000, '8.78',color=(0.5,0.0,0.5))\n",
        "\n",
        "plt.xlabel('duração(mins)')\n",
        "plt.ylabel('número de viagens')\n",
        "\n",
        "plt.title('Viagem aos Sábados e Domingos')\n",
        "plt.legend()\n",
        "plt.show()"
      ],
      "execution_count": 0,
      "outputs": [
        {
          "output_type": "display_data",
          "data": {
            "image/png": "[encoded data removed]",
            "text/plain": [
              "<Figure size 576x432 with 1 Axes>"
            ]
          },
          "metadata": {
            "tags": []
          }
        }
      ]
    },
    {
      "metadata": {
        "id": "6lggb4ZctETY",
        "colab_type": "code",
        "outputId": "d33c9eb5-7435-4167-a104-817a5f51c72f",
        "colab": {
          "base_uri": "https://localhost:8080/",
          "height": 473
        }
      },
      "cell_type": "code",
      "source": [
        "weekends_50 = trips[trips.day_of_the_week >= 5][trips.travel_time <= 50].travel_time\n",
        "\n",
        "plt.subplots(figsize = (8,6))\n",
        "plt.hist(weekends_50)\n",
        "plt.xlim(0,50)\n",
        "\n",
        "plt.plot([np.mean(weekends),np.mean(weekends)],[0,300000],c=(0.9,0.2,0.2),label='média')\n",
        "plt.plot([np.median(weekends),np.median(weekends)],[0,300000],c=(0.5,0.0,0.5),label='mediana')\n",
        "\n",
        "plt.text(26.9, 300000, '26.255',color=(0.9,0.2,0.2))\n",
        "plt.text(9.6, 300000, '8.78',color=(0.5,0.0,0.5))\n",
        "\n",
        "plt.xlabel('duração(mins)')\n",
        "plt.ylabel('número de viagens')\n",
        "\n",
        "plt.title('Viagem aos Sábados e Domingos')\n",
        "plt.legend()\n",
        "plt.show()"
      ],
      "execution_count": 0,
      "outputs": [
        {
          "output_type": "stream",
          "text": [
            "/usr/local/lib/python3.6/dist-packages/ipykernel_launcher.py:1: UserWarning:\n",
            "\n",
            "Boolean Series key will be reindexed to match DataFrame index.\n",
            "\n"
          ],
          "name": "stderr"
        },
        {
          "output_type": "display_data",
          "data": {
            "image/png": "[encoded data removed]",
            "text/plain": [
              "<Figure size 576x432 with 1 Axes>"
            ]
          },
          "metadata": {
            "tags": []
          }
        }
      ]
    },
    {
      "metadata": {
        "id": "_wYEEQ2fV2TS",
        "colab_type": "text"
      },
      "cell_type": "markdown",
      "source": [
        "## Fazer uma visualização em mapa com latitude e longitude de pickups e dropoffs no ano de 2010.\n"
      ]
    },
    {
      "metadata": {
        "id": "lGFgFppMA15f",
        "colab_type": "code",
        "colab": {}
      },
      "cell_type": "code",
      "source": [
        "\n",
        "import plotly\n",
        "\n",
        "plotly.tools.set_credentials_file(username='mrmtonio', api_key='---')\n",
        "\n",
        "import plotly.plotly as py\n",
        "import plotly.graph_objs as go\n",
        "\n",
        "mapbox_access_token = '---'\n",
        "\n",
        "scatterpickup = go.Scattermapbox(\n",
        "        lat=trips_2010.iloc[0:101].pickup_latitude,\n",
        "        lon=trips_2010.iloc[0:101].pickup_longitude,\n",
        "        mode='markers',\n",
        "        marker=go.scattermapbox.Marker(\n",
        "            size=14,\n",
        "            opacity=0.3,\n",
        "            color='blue'\n",
        "        ),\n",
        "        text=list(range(1,101)),\n",
        "    name = 'pickups')\n",
        "scatterdropoff = go.Scattermapbox(\n",
        "        lat=trips_2010.iloc[0:101].dropoff_latitude,\n",
        "        lon=trips_2010.iloc[0:101].dropoff_longitude,\n",
        "        mode='markers',\n",
        "        marker=go.scattermapbox.Marker(\n",
        "            size=14,\n",
        "            opacity=0.3,\n",
        "            color='red'\n",
        "        ),\n",
        "        text=list(range(1,101)),\n",
        "    name = 'dropoffs')\n",
        "data = [scatterpickup,scatterdropoff]\n",
        "\n",
        "layout = go.Layout(\n",
        "    autosize=True,\n",
        "    hovermode='closest',\n",
        "    mapbox=go.layout.Mapbox(\n",
        "        accesstoken=mapbox_access_token,\n",
        "        bearing=0,\n",
        "        center=go.layout.mapbox.Center(\n",
        "            lat=40.75,\n",
        "            lon=-74\n",
        "        ),\n",
        "        pitch=0,\n",
        "        zoom=11\n",
        "    ),\n",
        ")\n",
        "\n",
        "fig = go.Figure(data=data, layout=layout)\n",
        "py.iplot(fig, filename='Datasprints Mapbox')"
      ],
      "execution_count": 0,
      "outputs": []
    }
  ]
}
